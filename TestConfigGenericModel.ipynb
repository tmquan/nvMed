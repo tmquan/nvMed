{
 "cells": [
  {
   "cell_type": "code",
   "execution_count": 9,
   "metadata": {},
   "outputs": [],
   "source": [
    "import torch \n",
    "from pprint import pprint\n",
    "from omegaconf import OmegaConf\n",
    "from pytorch3d.implicitron.models.feature_extractor.resnet_feature_extractor import ResNetFeatureExtractor\n",
    "\n",
    "from pytorch3d.implicitron.models.generic_model import GenericModel\n",
    "from pytorch3d.implicitron.models.implicit_function.idr_feature_field import IdrFeatureField\n",
    "from pytorch3d.implicitron.models.implicit_function.neural_radiance_field import NeuralRadianceFieldImplicitFunction\n",
    "from pytorch3d.implicitron.models.renderer.lstm_renderer import LSTMRenderer\n",
    "from pytorch3d.implicitron.models.renderer.multipass_ea import MultiPassEmissionAbsorptionRenderer\n",
    "from pytorch3d.implicitron.models.view_pooler.feature_aggregator import AngleWeightedIdentityFeatureAggregator\n",
    "from pytorch3d.implicitron.tools.config import get_default_args\n",
    "from pytorch3d.implicitron.tools.config import remove_unused_components"
   ]
  },
  {
   "cell_type": "code",
   "execution_count": 24,
   "metadata": {},
   "outputs": [
    {
     "data": {
      "text/plain": [
       "omegaconf.dictconfig.DictConfig"
      ]
     },
     "metadata": {},
     "output_type": "display_data"
    },
    {
     "data": {
      "text/plain": [
       "{'log_vars': ['loss_rgb_psnr_fg', 'loss_rgb_psnr', 'loss_rgb_mse', 'loss_rgb_huber', 'loss_depth_abs', 'loss_depth_abs_fg', 'loss_mask_neg_iou', 'loss_mask_bce', 'loss_mask_beta_prior', 'loss_eikonal', 'loss_density_tv', 'loss_depth_neg_penalty', 'loss_autodecoder_norm', 'loss_prev_stage_rgb_mse', 'loss_prev_stage_rgb_psnr_fg', 'loss_prev_stage_rgb_psnr', 'loss_prev_stage_mask_bce', 'objective', 'epoch', 'sec/it'],\n",
       " 'mask_images': False,\n",
       " 'mask_depths': False,\n",
       " 'render_image_width': 256,\n",
       " 'render_image_height': 256,\n",
       " 'mask_threshold': 0.5,\n",
       " 'output_rasterized_mc': False,\n",
       " 'bg_color': [0.0, 0.0, 0.0],\n",
       " 'num_passes': 1,\n",
       " 'chunk_size_grid': 4096,\n",
       " 'render_features_dimensions': 3,\n",
       " 'tqdm_trigger_threshold': 16,\n",
       " 'n_train_target_views': 1,\n",
       " 'sampling_mode_training': 'full_grid',\n",
       " 'sampling_mode_evaluation': 'full_grid',\n",
       " 'global_encoder_class_type': None,\n",
       " 'raysampler_class_type': 'AdaptiveRaySampler',\n",
       " 'renderer_class_type': 'MultiPassEmissionAbsorptionRenderer',\n",
       " 'image_feature_extractor_class_type': 'ResNetFeatureExtractor',\n",
       " 'view_pooler_enabled': True,\n",
       " 'implicit_function_class_type': 'NeuralRadianceFieldImplicitFunction',\n",
       " 'view_metrics_class_type': 'ViewMetrics',\n",
       " 'regularization_metrics_class_type': 'RegularizationMetrics',\n",
       " 'loss_weights': {'loss_rgb_mse': 1.0, 'loss_prev_stage_rgb_mse': 1.0, 'loss_mask_bce': 0.0, 'loss_prev_stage_mask_bce': 0.0},\n",
       " 'raysampler_AdaptiveRaySampler_args': {'n_pts_per_ray_training': 64, 'n_pts_per_ray_evaluation': 64, 'n_rays_per_image_sampled_from_mask': 1024, 'n_rays_total_training': None, 'stratified_point_sampling_training': True, 'stratified_point_sampling_evaluation': False, 'cast_ray_bundle_as_cone': False, 'scene_extent': 8.0, 'scene_center': [0.0, 0.0, 0.0]},\n",
       " 'renderer_MultiPassEmissionAbsorptionRenderer_args': {'raymarcher_class_type': 'EmissionAbsorptionRaymarcher', 'n_pts_per_ray_fine_training': 64, 'n_pts_per_ray_fine_evaluation': 64, 'stratified_sampling_coarse_training': True, 'stratified_sampling_coarse_evaluation': False, 'append_coarse_samples_to_fine': True, 'density_noise_std_train': 0.0, 'return_weights': False, 'blurpool_weights': False, 'sample_pdf_eps': 1e-05, 'raymarcher_EmissionAbsorptionRaymarcher_args': {'surface_thickness': 1, 'bg_color': [0.0], 'replicate_last_interval': False, 'background_opacity': 10000000000.0, 'density_relu': True, 'blend_output': False}},\n",
       " 'image_feature_extractor_ResNetFeatureExtractor_args': {'name': 'resnet101', 'pretrained': True, 'stages': [1, 2, 3, 4], 'normalize_image': True, 'image_rescale': 1.0, 'first_max_pool': True, 'proj_dim': 32, 'l2_norm': True, 'add_masks': True, 'add_images': True, 'global_average_pool': False, 'feature_rescale': 1.0},\n",
       " 'view_pooler_args': None,\n",
       " 'implicit_function_NeuralRadianceFieldImplicitFunction_args': {'n_harmonic_functions_xyz': 10, 'n_harmonic_functions_dir': 4, 'n_hidden_neurons_dir': 128, 'input_xyz': True, 'xyz_ray_dir_in_camera_coords': False, 'use_integrated_positional_encoding': False, 'transformer_dim_down_factor': 1.0, 'n_hidden_neurons_xyz': 256, 'n_layers_xyz': 8, 'append_xyz': [5]},\n",
       " 'view_metrics_ViewMetrics_args': {},\n",
       " 'regularization_metrics_RegularizationMetrics_args': {}}"
      ]
     },
     "metadata": {},
     "output_type": "display_data"
    }
   ],
   "source": [
    "args = get_default_args(GenericModel)\n",
    "# display(type(args))\n",
    "# display(dict(args))\n",
    "\n",
    "args.view_pooler_enabled = True\n",
    "args.mask_images = False\n",
    "args.mask_depths = False\n",
    "args.render_image_width = 256\n",
    "args.render_image_height = 256\n",
    "args.sampling_mode_training = \"full_grid\"\n",
    "args.sampling_mode_evaluation = \"full_grid\"\n",
    "args.global_encoder_class_type = None\n",
    "args.image_feature_extractor_class_type = \"ResNetFeatureExtractor\"\n",
    "args.image_feature_extractor_ResNetFeatureExtractor_args.name = \"resnet101\"\n",
    "args.image_feature_extractor_ResNetFeatureExtractor_args.pretrained = True\n",
    "args.image_feature_extractor_ResNetFeatureExtractor_args.image_rescale = 1.0\n",
    "args.view_pooler_args = None\n",
    "remove_unused_components(args)\n",
    "display(type(args))\n",
    "display(dict(args))"
   ]
  },
  {
   "cell_type": "code",
   "execution_count": null,
   "metadata": {},
   "outputs": [],
   "source": []
  }
 ],
 "metadata": {
  "kernelspec": {
   "display_name": "py310",
   "language": "python",
   "name": "python3"
  },
  "language_info": {
   "codemirror_mode": {
    "name": "ipython",
    "version": 3
   },
   "file_extension": ".py",
   "mimetype": "text/x-python",
   "name": "python",
   "nbconvert_exporter": "python",
   "pygments_lexer": "ipython3",
   "version": "3.11.5"
  }
 },
 "nbformat": 4,
 "nbformat_minor": 2
}
