{
 "cells": [
  {
   "cell_type": "code",
   "execution_count": 1,
   "metadata": {},
   "outputs": [],
   "source": [
    "import os"
   ]
  },
  {
   "cell_type": "code",
   "execution_count": 2,
   "metadata": {},
   "outputs": [],
   "source": [
    "from datamodule import UnpairedDataModule, ExampleDataModule"
   ]
  },
  {
   "cell_type": "code",
   "execution_count": 3,
   "metadata": {},
   "outputs": [],
   "source": [
    "class Hparams:\n",
    "    def __init__(self, datadir, img_shape, vol_shape, batch_size, seed) -> None:\n",
    "        self.datadir = datadir\n",
    "        self.img_shape = img_shape\n",
    "        self.vol_shape = vol_shape\n",
    "        self.batch_size = batch_size\n",
    "        self.seed = seed\n",
    "\n",
    "# hparams = parser.parse_args()\n",
    "hparams = Hparams(\n",
    "    datadir='/home/quantm/data',\n",
    "    img_shape=256, \n",
    "    vol_shape=256, \n",
    "    batch_size=4, \n",
    "    seed=42\n",
    ")"
   ]
  },
  {
   "cell_type": "code",
   "execution_count": 4,
   "metadata": {},
   "outputs": [
    {
     "name": "stdout",
     "output_type": "stream",
     "text": [
      "1544\n",
      "['/home/quantm/data/ChestXRLungSegmentation/Imagenglab/processed/train/images/001.nii.gz']\n",
      "15000\n",
      "['/home/quantm/data/ChestXRLungSegmentation/VinDr/v1/processed/train/images/000434271f63a053c4128a0ba6352c7f.png']\n",
      "1544\n",
      "['/home/quantm/data/ChestXRLungSegmentation/Imagenglab/processed/train/images/001.nii.gz']\n",
      "3000\n",
      "['/home/quantm/data/ChestXRLungSegmentation/VinDr/v1/processed/test/images/002a34c58c5b758217ed1f584ccbcfe9.png']\n",
      "1544\n",
      "['/home/quantm/data/ChestXRLungSegmentation/Imagenglab/processed/train/images/001.nii.gz']\n",
      "3000\n",
      "['/home/quantm/data/ChestXRLungSegmentation/VinDr/v1/processed/test/images/002a34c58c5b758217ed1f584ccbcfe9.png']\n"
     ]
    }
   ],
   "source": [
    "train_image3d_folders = [\n",
    "    # os.path.join(hparams.datadir, 'SpineXRVertSegmentation/Verse2019/raw/train/rawdata/'),\n",
    "    # os.path.join(hparams.datadir, 'SpineXRVertSegmentation/Verse2020/raw/train/rawdata/'),\n",
    "    # os.path.join(hparams.datadir, 'SpineXRVertSegmentation/Verse2019/raw/val/rawdata/'),\n",
    "    # os.path.join(hparams.datadir, 'SpineXRVertSegmentation/Verse2020/raw/val/rawdata/'),\n",
    "    # os.path.join(hparams.datadir, 'SpineXRVertSegmentation/Verse2019/raw/test/rawdata/'),\n",
    "    # os.path.join(hparams.datadir, 'SpineXRVertSegmentation/Verse2020/raw/test/rawdata/'),\n",
    "    # os.path.join(hparams.datadir, 'SpineXRVertSegmentation/UWSpine/processed/train/images'),\n",
    "    # os.path.join(hparams.datadir, 'SpineXRVertSegmentation/UWSpine/processed/test/images/'),\n",
    "    os.path.join(hparams.datadir, \"ChestXRLungSegmentation/NSCLC/processed/train/images\"),\n",
    "    os.path.join(hparams.datadir,\"ChestXRLungSegmentation/MOSMED/processed/train/images/CT-0\",),\n",
    "    os.path.join(hparams.datadir,\"ChestXRLungSegmentation/MOSMED/processed/train/images/CT-1\",),\n",
    "    os.path.join(hparams.datadir,\"ChestXRLungSegmentation/MOSMED/processed/train/images/CT-2\",),\n",
    "    os.path.join(hparams.datadir,\"ChestXRLungSegmentation/MOSMED/processed/train/images/CT-3\",),\n",
    "    os.path.join(hparams.datadir,\"ChestXRLungSegmentation/MOSMED/processed/train/images/CT-4\",),\n",
    "    os.path.join(hparams.datadir, \"ChestXRLungSegmentation/Imagenglab/processed/train/images\"),\n",
    "]\n",
    "train_label3d_folders = []\n",
    "\n",
    "train_image2d_folders = [\n",
    "    # os.path.join(hparams.datadir, 'ChestXRLungSegmentation/JSRT/processed/images/'),\n",
    "    # os.path.join(hparams.datadir, 'ChestXRLungSegmentation/ChinaSet/processed/images/'),\n",
    "    # os.path.join(hparams.datadir, 'ChestXRLungSegmentation/Montgomery/processed/images/'),\n",
    "    os.path.join(hparams.datadir, \"ChestXRLungSegmentation/VinDr/v1/processed/train/images/\"),\n",
    "    # os.path.join(hparams.datadir, 'ChestXRLungSegmentation/VinDr/v1/processed/test/images/'),\n",
    "    # os.path.join(hparams.datadir, 'SpineXRVertSegmentation/T62020/20200501/raw/images'),\n",
    "    # os.path.join(hparams.datadir, 'SpineXRVertSegmentation/T62021/20211101/raw/images'),\n",
    "    # os.path.join(hparams.datadir, 'SpineXRVertSegmentation/VinDr/v1/processed/train/images/'),\n",
    "    # os.path.join(hparams.datadir, 'SpineXRVertSegmentation/VinDr/v1/processed/test/images/'),\n",
    "]\n",
    "train_label2d_folders = []\n",
    "\n",
    "val_image3d_folders = train_image3d_folders\n",
    "val_image2d_folders = [\n",
    "    # os.path.join(hparams.datadir, 'ChestXRLungSegmentation/JSRT/processed/images/'),\n",
    "    # os.path.join(hparams.datadir, 'ChestXRLungSegmentation/ChinaSet/processed/images/'),\n",
    "    # os.path.join(hparams.datadir, 'ChestXRLungSegmentation/Montgomery/processed/images/'),\n",
    "    # os.path.join(hparams.datadir, 'ChestXRLungSegmentation/VinDr/v1/processed/train/images/'),\n",
    "    os.path.join(hparams.datadir, \"ChestXRLungSegmentation/VinDr/v1/processed/test/images/\"),\n",
    "    # os.path.join(hparams.datadir, 'SpineXRVertSegmentation/T62020/20200501/raw/images'),\n",
    "    # os.path.join(hparams.datadir, 'SpineXRVertSegmentation/T62021/20211101/raw/images'),\n",
    "    # os.path.join(hparams.datadir, 'SpineXRVertSegmentation/VinDr/v1/processed/train/images/'),\n",
    "    # os.path.join(hparams.datadir, 'SpineXRVertSegmentation/VinDr/v1/processed/test/images/'),\n",
    "]\n",
    "\n",
    "test_image3d_folders = val_image3d_folders\n",
    "test_image2d_folders = val_image2d_folders\n",
    "\n",
    "datamodule = UnpairedDataModule(\n",
    "    train_image3d_folders=train_image3d_folders,\n",
    "    train_image2d_folders=train_image2d_folders,\n",
    "    val_image3d_folders=val_image3d_folders,\n",
    "    val_image2d_folders=val_image2d_folders,\n",
    "    test_image3d_folders=test_image3d_folders,\n",
    "    test_image2d_folders=test_image2d_folders,\n",
    "    img_shape=hparams.img_shape,\n",
    "    vol_shape=hparams.vol_shape,\n",
    "    batch_size=hparams.batch_size,\n",
    ")\n",
    "datamodule.setup(seed=hparams.seed)"
   ]
  },
  {
   "cell_type": "code",
   "execution_count": 5,
   "metadata": {},
   "outputs": [
    {
     "name": "stdout",
     "output_type": "stream",
     "text": [
      "1\n",
      "['/home/quantm/data/Visualization/image3d/Engine.tif']\n",
      "1\n",
      "['/home/quantm/data/Visualization/image2d/cameraman.png']\n",
      "1\n",
      "['/home/quantm/data/Visualization/image3d/Engine.tif']\n",
      "1\n",
      "['/home/quantm/data/Visualization/image2d/cameraman.png']\n",
      "1\n",
      "['/home/quantm/data/Visualization/image3d/Engine.tif']\n",
      "1\n",
      "['/home/quantm/data/Visualization/image2d/cameraman.png']\n"
     ]
    }
   ],
   "source": [
    "train_image3d_folders = [os.path.join(hparams.datadir, \"Visualization/image3d\"),]\n",
    "train_image2d_folders = [os.path.join(hparams.datadir, \"Visualization/image2d\"),]\n",
    "val_image3d_folders = [os.path.join(hparams.datadir, \"Visualization/image3d\"),]\n",
    "val_image2d_folders = [os.path.join(hparams.datadir, \"Visualization/image2d\"),]\n",
    "test_image3d_folders = [os.path.join(hparams.datadir, \"Visualization/image3d\"),]\n",
    "test_image2d_folders = [os.path.join(hparams.datadir, \"Visualization/image2d\"),]\n",
    "\n",
    "datamodule = ExampleDataModule(\n",
    "    train_image3d_folders=train_image3d_folders,\n",
    "    train_image2d_folders=train_image2d_folders,\n",
    "    val_image3d_folders=val_image3d_folders,\n",
    "    val_image2d_folders=val_image2d_folders,\n",
    "    test_image3d_folders=test_image3d_folders,\n",
    "    test_image2d_folders=test_image2d_folders,\n",
    "    img_shape=hparams.img_shape,\n",
    "    vol_shape=hparams.vol_shape,\n",
    "    batch_size=hparams.batch_size,\n",
    ")\n",
    "datamodule.setup(seed=hparams.seed)\n"
   ]
  },
  {
   "cell_type": "code",
   "execution_count": null,
   "metadata": {},
   "outputs": [],
   "source": []
  }
 ],
 "metadata": {
  "kernelspec": {
   "display_name": "py311",
   "language": "python",
   "name": "python3"
  },
  "language_info": {
   "codemirror_mode": {
    "name": "ipython",
    "version": 3
   },
   "file_extension": ".py",
   "mimetype": "text/x-python",
   "name": "python",
   "nbconvert_exporter": "python",
   "pygments_lexer": "ipython3",
   "version": "3.10.10"
  }
 },
 "nbformat": 4,
 "nbformat_minor": 2
}
